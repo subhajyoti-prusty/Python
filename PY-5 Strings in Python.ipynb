{
 "cells": [
  {
   "cell_type": "markdown",
   "metadata": {},
   "source": [
    "# Strings In Python (part-1)\n",
    "In Python, a string is a sequence of characters enclosed within either single (' '), double (\" \"), or triple (''' ' ''', \"\"\" \"\"\" or ''' '''') quotes. Strings are used to represent text data and are one of the fundamental data types in Python\n",
    "\n",
    "* Strings are sequence of Characters\n",
    "* In Python specifically, strings are a sequence of Unicode Characters\n",
    "* Immutable: Strings in Python are immutable, meaning once you create a string, you cannot change its content. You can create new strings based on the original string, but the original string remains unchanged."
   ]
  },
  {
   "cell_type": "markdown",
   "metadata": {},
   "source": [
    "# 1. Creating Strings"
   ]
  },
  {
   "cell_type": "code",
   "execution_count": 1,
   "metadata": {},
   "outputs": [
    {
     "name": "stdout",
     "output_type": "stream",
     "text": [
      "Hello World\n"
     ]
    }
   ],
   "source": [
    "# create string with the help of single quotes\n",
    "s = 'Hello World'\n",
    "print(s)"
   ]
  },
  {
   "cell_type": "code",
   "execution_count": 2,
   "metadata": {},
   "outputs": [
    {
     "name": "stdout",
     "output_type": "stream",
     "text": [
      "Hello World\n"
     ]
    }
   ],
   "source": [
    "# create string with the help of Double quotes\n",
    "s = \"Hello World\"\n",
    "print(s)"
   ]
  },
  {
   "cell_type": "markdown",
   "metadata": {},
   "source": [
    "when we use single and double quotes?\n",
    "\n",
    "-> In Python, you can create strings using both single quotes (') and double quotes (\"), and they are functionally equivalent. The choice between using single or double quotes mainly depends on your personal preference or specific coding style guidelines.\n",
    "\n",
    "If your string contains a quotation mark character (either a single quote or double quote), you can use the other type of quote to define the string without escaping the inner quotes. This can make your code more readable:"
   ]
  },
  {
   "cell_type": "code",
   "execution_count": 3,
   "metadata": {},
   "outputs": [
    {
     "name": "stdout",
     "output_type": "stream",
     "text": [
      "He said, \"Hello!\"\n",
      "He said, 'Hello!'\n"
     ]
    }
   ],
   "source": [
    "single_quoted_string = 'He said, \"Hello!\"'\n",
    "double_quoted_string = \"He said, 'Hello!'\"\n",
    "# here we use single and double quotes\n",
    "print(single_quoted_string)\n",
    "print(double_quoted_string)"
   ]
  },
  {
   "cell_type": "code",
   "execution_count": 4,
   "metadata": {},
   "outputs": [
    {
     "name": "stdout",
     "output_type": "stream",
     "text": [
      "hello\n"
     ]
    }
   ],
   "source": [
    "# multiline strings\n",
    "s = '''hello'''\n",
    "s = \"\"\"hello\"\"\"\n",
    "s = str('hello')\n",
    "print(s)"
   ]
  },
  {
   "cell_type": "markdown",
   "metadata": {},
   "source": [
    "# 2. Accessing Substrings from a String\n",
    "    # Indexing\n",
    "Indexing in Python refers to the process of accessing individual elements or characters within a sequence, such as a string. Strings in Python are sequences of characters, and you can access specific characters in a string using indexing. Indexing is done using square brackets [ ], and Python uses a zero-based indexing system, meaning the first element has an index of 0, the second element has an index of 1, and so on.\n",
    "\n",
    "we have two types of Indexing:\n",
    "1. Positive indexing\n",
    "2. Negative Indexing"
   ]
  },
  {
   "cell_type": "code",
   "execution_count": 5,
   "metadata": {},
   "outputs": [
    {
     "name": "stdout",
     "output_type": "stream",
     "text": [
      "H\n",
      "e\n"
     ]
    }
   ],
   "source": [
    "\n",
    "s = \"Hello World\"\n",
    "\n",
    "# Accessing individual characters using positive indexing\n",
    "print(s[0])  # Accesses the first character, 'H'\n",
    "print(s[1])  # Accesses the second character, 'e'"
   ]
  },
  {
   "cell_type": "code",
   "execution_count": 6,
   "metadata": {},
   "outputs": [
    {
     "name": "stdout",
     "output_type": "stream",
     "text": [
      "d\n",
      "l\n"
     ]
    }
   ],
   "source": [
    "# Accessing individual characters using negative indexing (counting from the end)\n",
    "print(s[-1])  # Accesses the last character, 'd'\n",
    "print(s[-2])  # Accesses the second-to-last character, 'l'"
   ]
  },
  {
   "cell_type": "markdown",
   "metadata": {},
   "source": [
    "# Slicing\n",
    "In Python, slicing is a technique used to extract a portion of a string, list, or any other sequence-like data structure. When it comes to strings, slicing allows you to create a new string by specifying a range of indices to extract a substring from the original string."
   ]
  },
  {
   "cell_type": "code",
   "execution_count": null,
   "metadata": {},
   "outputs": [],
   "source": [
    "# string[start:end]"
   ]
  },
  {
   "cell_type": "markdown",
   "metadata": {},
   "source": [
    "* string: The original string you want to slice.\n",
    "* start: The index from which the slicing begins (inclusive).\n",
    "* end: The index at which the slicing ends (exclusive)."
   ]
  },
  {
   "cell_type": "code",
   "execution_count": 7,
   "metadata": {},
   "outputs": [
    {
     "name": "stdout",
     "output_type": "stream",
     "text": [
      "ello\n",
      "hello \n",
      "ello world\n",
      "hello world\n",
      "worl\n"
     ]
    }
   ],
   "source": [
    "s = 'hello world'\n",
    "print(s[1:5]) # from 1 index that is e to 4 index=o\n",
    "print(s[:6]) # from 0 to 5\n",
    "print(s[1:]) # from 1 to all\n",
    "print(s[:]) # all string\n",
    "print(s[-5:-1]) # with negative slicing"
   ]
  },
  {
   "cell_type": "code",
   "execution_count": 8,
   "metadata": {},
   "outputs": [
    {
     "name": "stdout",
     "output_type": "stream",
     "text": [
      "wol\n",
      "dlrow olleh\n"
     ]
    }
   ],
   "source": [
    "# we use step function in slicing \n",
    "s = 'hello world'\n",
    "print(s[6:0:-2])\n",
    "print(s[::-1])"
   ]
  },
  {
   "cell_type": "code",
   "execution_count": 9,
   "metadata": {},
   "outputs": [
    {
     "name": "stdout",
     "output_type": "stream",
     "text": [
      "dlrow\n"
     ]
    }
   ],
   "source": [
    "s = 'hello world'\n",
    "print(s[-1:-6:-1])"
   ]
  },
  {
   "cell_type": "markdown",
   "metadata": {},
   "source": [
    "# 3. Editing and Deleting in Strings"
   ]
  },
  {
   "cell_type": "code",
   "execution_count": 10,
   "metadata": {},
   "outputs": [
    {
     "ename": "TypeError",
     "evalue": "'str' object does not support item assignment",
     "output_type": "error",
     "traceback": [
      "\u001b[1;31m---------------------------------------------------------------------------\u001b[0m",
      "\u001b[1;31mTypeError\u001b[0m                                 Traceback (most recent call last)",
      "\u001b[1;32mc:\\Users\\LENOVE\\VS-CODE\\Jupyter\\Python_5.ipynb Cell 18\u001b[0m line \u001b[0;36m2\n\u001b[0;32m      <a href='vscode-notebook-cell:/c%3A/Users/LENOVE/VS-CODE/Jupyter/Python_5.ipynb#X26sZmlsZQ%3D%3D?line=0'>1</a>\u001b[0m s \u001b[39m=\u001b[39m \u001b[39m'\u001b[39m\u001b[39mhello world\u001b[39m\u001b[39m'\u001b[39m\n\u001b[1;32m----> <a href='vscode-notebook-cell:/c%3A/Users/LENOVE/VS-CODE/Jupyter/Python_5.ipynb#X26sZmlsZQ%3D%3D?line=1'>2</a>\u001b[0m s[\u001b[39m0\u001b[39;49m] \u001b[39m=\u001b[39m \u001b[39m'\u001b[39m\u001b[39mH\u001b[39m\u001b[39m'\u001b[39m\n\u001b[0;32m      <a href='vscode-notebook-cell:/c%3A/Users/LENOVE/VS-CODE/Jupyter/Python_5.ipynb#X26sZmlsZQ%3D%3D?line=2'>3</a>\u001b[0m \u001b[39m# it throws error \u001b[39;00m\n\u001b[0;32m      <a href='vscode-notebook-cell:/c%3A/Users/LENOVE/VS-CODE/Jupyter/Python_5.ipynb#X26sZmlsZQ%3D%3D?line=3'>4</a>\u001b[0m \u001b[39m# Python strings are immutable\u001b[39;00m\n",
      "\u001b[1;31mTypeError\u001b[0m: 'str' object does not support item assignment"
     ]
    }
   ],
   "source": [
    "s = 'hello world'\n",
    "s[0] = 'H'\n",
    "# it throws error \n",
    "# Python strings are immutable"
   ]
  },
  {
   "cell_type": "markdown",
   "metadata": {},
   "source": [
    "Immutable: Strings in Python are immutable, meaning once you create a string, you cannot change its content. You can create new strings based on the original string, but the original string remains unchanged."
   ]
  }
 ],
 "metadata": {
  "kernelspec": {
   "display_name": "Python 3",
   "language": "python",
   "name": "python3"
  },
  "language_info": {
   "codemirror_mode": {
    "name": "ipython",
    "version": 3
   },
   "file_extension": ".py",
   "mimetype": "text/x-python",
   "name": "python",
   "nbconvert_exporter": "python",
   "pygments_lexer": "ipython3",
   "version": "3.11.6"
  }
 },
 "nbformat": 4,
 "nbformat_minor": 2
}
