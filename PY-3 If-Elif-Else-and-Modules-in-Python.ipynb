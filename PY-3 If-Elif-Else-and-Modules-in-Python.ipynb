{
 "cells": [
  {
   "cell_type": "markdown",
   "metadata": {},
   "source": [
    "# If-Elif-Else\n",
    "\n",
    "In Python, you can use the if, elif (short for \"else if\"), and else statements to create conditional branches in your code. These statements allow you to execute different blocks of code based on certain conditions. Here's the basic syntax:"
   ]
  },
  {
   "cell_type": "code",
   "execution_count": 1,
   "metadata": {},
   "outputs": [],
   "source": [
    "#if condition1:\n",
    "    # Code to execute if condition1 is True\n",
    "#elif condition2:\n",
    "    # Code to execute if condition1 is False and condition2 is True\n",
    "#else:\n",
    "    # Code to execute if both condition1 and condition2 are False"
   ]
  },
  {
   "cell_type": "markdown",
   "metadata": {},
   "source": [
    "Here's a breakdown of how these statements work:\n",
    "\n",
    "* if: This is the initial condition. If condition1 is true, the code block under if is executed, and the program exits the entire if-elif-else structure.\n",
    "\n",
    "* elif (optional): You can have multiple elif blocks to check for additional conditions if the previous if or elif conditions are false. If any elif condition is true, its corresponding code block is executed, and the program exits the structure.\n",
    "\n",
    "* else (optional): If none of the previous conditions (including the if and all elif conditions) is true, the code block under else is executed. It serves as the \"catch-all\" block when none of the conditions match."
   ]
  },
  {
   "cell_type": "code",
   "execution_count": 2,
   "metadata": {},
   "outputs": [
    {
     "name": "stdout",
     "output_type": "stream",
     "text": [
      "x is greater than 5\n"
     ]
    }
   ],
   "source": [
    "# For Example\n",
    "x=10\n",
    "\n",
    "if x < 5:\n",
    "    print(\"x is less than 5\")\n",
    "\n",
    "elif x==5:\n",
    "    print(\"x is equal to 5\")\n",
    "    \n",
    "else:\n",
    "    print(\"x is greater than 5\")"
   ]
  },
  {
   "cell_type": "markdown",
   "metadata": {},
   "source": [
    "In this example, if x is less than 5, the first block is executed. If x is exactly 5, the second block is executed. Otherwise, if x is greater than 5, the third block is executed."
   ]
  },
  {
   "cell_type": "code",
   "execution_count": null,
   "metadata": {},
   "outputs": [],
   "source": [
    "# We can use input function as well in same program\n",
    "x = input('Enter the number')\n",
    "\n",
    "# Convert x to an integer\n",
    "x = int(x)\n",
    "\n",
    "if x < 5:\n",
    "    print(\"x is less than 5\")\n",
    "elif x == 5:\n",
    "    print(\"x is equal to 5\")\n",
    "else:\n",
    "    print(\"x is greater than 5\")"
   ]
  },
  {
   "cell_type": "markdown",
   "metadata": {},
   "source": [
    "# Example of If-else\n",
    "\n",
    "login Program:\n",
    "* we have to build login program in one of the website where Input is email and password.\n",
    "* when input is correct then we have to give them access in our website\n",
    "* use if else for that\n",
    "\n",
    "email- Subhajyoti.2004@gmail.com \n",
    "password - 1234"
   ]
  },
  {
   "cell_type": "code",
   "execution_count": null,
   "metadata": {},
   "outputs": [],
   "source": [
    "# Simulated user data\n",
    "stored_email = \"Subhajyoti.2004@gmail.com\"\n",
    "stored_password = \"1234\"\n",
    "\n",
    "# User input\n",
    "email = input('Enter email: ')\n",
    "password = input('Enter password: ')\n",
    "\n",
    "# Check if user input matches stored data\n",
    "if email == stored_email and password == stored_password:\n",
    "    print('Welcome')\n",
    "else:\n",
    "    print('Authentication failed. Please check your email and password.')"
   ]
  },
  {
   "cell_type": "code",
   "execution_count": null,
   "metadata": {},
   "outputs": [],
   "source": [
    "# If input is wrong so we have to give them once chance for coreect password\n",
    "# Simulated user data\n",
    "stored_email = \"Subhajyoti.2004@gmail.com\"\n",
    "stored_password = \"1234\"\n",
    "\n",
    "# User input\n",
    "email = input('Enter email: ')\n",
    "password = input('Enter password: ')\n",
    "\n",
    "# Check if user input matches stored data\n",
    "if email == stored_email and password == stored_password:\n",
    "    print('Welcome')\n",
    "    \n",
    "elif email == stored_email and password != stored_password:\n",
    "    print('Incorrect Password')\n",
    "    password=input('Enter the password again')\n",
    "    if password== stored_password:   # this is nested if else\n",
    "        print('welcome,finally')\n",
    "    \n",
    "else:\n",
    "    print('Authentication failed. Please check your email and password.')"
   ]
  },
  {
   "cell_type": "markdown",
   "metadata": {},
   "source": [
    "# Nested If_ELSE\n",
    "\n",
    "Nested if-else statements in Python allow you to have one if-else statement inside another. This allows for more complex conditional logic, where you can test multiple conditions and execute different blocks of code based on those conditions. Here's the basic structure:"
   ]
  },
  {
   "cell_type": "code",
   "execution_count": 1,
   "metadata": {},
   "outputs": [
    {
     "name": "stdout",
     "output_type": "stream",
     "text": [
      "x is greater than 5\n",
      "y is also greater than 2\n"
     ]
    }
   ],
   "source": [
    "x = 10\n",
    "y = 5\n",
    "\n",
    "if x > 5:\n",
    "    print(\"x is greater than 5\")\n",
    "    if y > 2:\n",
    "        print(\"y is also greater than 2\")\n",
    "    else:\n",
    "        print(\"y is not greater than 2\")\n",
    "else:\n",
    "    print(\"x is not greater than 5\")"
   ]
  },
  {
   "cell_type": "markdown",
   "metadata": {},
   "source": [
    "# Modules In Python\n",
    "\n",
    "In Python, a module is a file containing Python code that can define functions, classes, and variables that can be reused in other Python scripts or programs. Modules are used to organize and encapsulate related code, making it easier to manage and maintain large codebases. Python provides a rich standard library with many built-in modules, and you can also create your own custom modules. we see some modules:\n",
    "\n",
    "1. Math module\n",
    "2. keywords\n",
    "3. random\n",
    "4. Dataetime , etc"
   ]
  },
  {
   "cell_type": "markdown",
   "metadata": {},
   "source": [
    "1. Math Module"
   ]
  },
  {
   "cell_type": "code",
   "execution_count": null,
   "metadata": {},
   "outputs": [],
   "source": [
    "# math\n",
    "import math\n",
    "\n",
    "math.sqrt(196)"
   ]
  },
  {
   "cell_type": "markdown",
   "metadata": {},
   "source": [
    "2. Keyword"
   ]
  },
  {
   "cell_type": "code",
   "execution_count": 2,
   "metadata": {},
   "outputs": [
    {
     "name": "stdout",
     "output_type": "stream",
     "text": [
      "['False', 'None', 'True', 'and', 'as', 'assert', 'async', 'await', 'break', 'class', 'continue', 'def', 'del', 'elif', 'else', 'except', 'finally', 'for', 'from', 'global', 'if', 'import', 'in', 'is', 'lambda', 'nonlocal', 'not', 'or', 'pass', 'raise', 'return', 'try', 'while', 'with', 'yield']\n"
     ]
    }
   ],
   "source": [
    "import keyword\n",
    "print(keyword.kwlist) # this will give u all the keyword list"
   ]
  },
  {
   "cell_type": "markdown",
   "metadata": {},
   "source": [
    "3. random"
   ]
  },
  {
   "cell_type": "code",
   "execution_count": 3,
   "metadata": {},
   "outputs": [
    {
     "name": "stdout",
     "output_type": "stream",
     "text": [
      "36\n"
     ]
    }
   ],
   "source": [
    "import random\n",
    "\n",
    "print(random.randint(1,100)) # it gives random number between 1 to 100 anyways when u run that code"
   ]
  },
  {
   "cell_type": "markdown",
   "metadata": {},
   "source": [
    "4. Datetime"
   ]
  },
  {
   "cell_type": "code",
   "execution_count": 4,
   "metadata": {},
   "outputs": [
    {
     "name": "stdout",
     "output_type": "stream",
     "text": [
      "2023-11-19 21:24:31.189466\n"
     ]
    }
   ],
   "source": [
    "import datetime\n",
    "\n",
    "print(datetime.datetime.now()) # this code gives you current time"
   ]
  }
 ],
 "metadata": {
  "kernelspec": {
   "display_name": "Python 3",
   "language": "python",
   "name": "python3"
  },
  "language_info": {
   "codemirror_mode": {
    "name": "ipython",
    "version": 3
   },
   "file_extension": ".py",
   "mimetype": "text/x-python",
   "name": "python",
   "nbconvert_exporter": "python",
   "pygments_lexer": "ipython3",
   "version": "3.11.6"
  }
 },
 "nbformat": 4,
 "nbformat_minor": 2
}
