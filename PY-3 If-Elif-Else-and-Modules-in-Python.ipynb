{
 "cells": [
  {
   "cell_type": "markdown",
   "metadata": {},
   "source": [
    "# If-Elif-Else\n",
    "\n",
    "In Python, you can use the if, elif (short for \"else if\"), and else statements to create conditional branches in your code. These statements allow you to execute different blocks of code based on certain conditions. Here's the basic syntax:"
   ]
  },
  {
   "cell_type": "code",
   "execution_count": 1,
   "metadata": {},
   "outputs": [],
   "source": [
    "#if condition1:\n",
    "    # Code to execute if condition1 is True\n",
    "#elif condition2:\n",
    "    # Code to execute if condition1 is False and condition2 is True\n",
    "#else:\n",
    "    # Code to execute if both condition1 and condition2 are False"
   ]
  },
  {
   "cell_type": "markdown",
   "metadata": {},
   "source": [
    "Here's a breakdown of how these statements work:\n",
    "\n",
    "* if: This is the initial condition. If condition1 is true, the code block under if is executed, and the program exits the entire if-elif-else structure.\n",
    "\n",
    "* elif (optional): You can have multiple elif blocks to check for additional conditions if the previous if or elif conditions are false. If any elif condition is true, its corresponding code block is executed, and the program exits the structure.\n",
    "\n",
    "* else (optional): If none of the previous conditions (including the if and all elif conditions) is true, the code block under else is executed. It serves as the \"catch-all\" block when none of the conditions match."
   ]
  },
  {
   "cell_type": "code",
   "execution_count": 2,
   "metadata": {},
   "outputs": [
    {
     "name": "stdout",
     "output_type": "stream",
     "text": [
      "x is greater than 5\n"
     ]
    }
   ],
   "source": [
    "# For Example\n",
    "x=10\n",
    "\n",
    "if x < 5:\n",
    "    print(\"x is less than 5\")\n",
    "\n",
    "elif x==5:\n",
    "    print(\"x is equal to 5\")\n",
    "    \n",
    "else:\n",
    "    print(\"x is greater than 5\")"
   ]
  },
  {
   "cell_type": "markdown",
   "metadata": {},
   "source": [
    "In this example, if x is less than 5, the first block is executed. If x is exactly 5, the second block is executed. Otherwise, if x is greater than 5, the third block is executed."
   ]
  },
  {
   "cell_type": "code",
   "execution_count": null,
   "metadata": {},
   "outputs": [],
   "source": [
    "# We can use input function as well in same program\n",
    "x = input('Enter the number')\n",
    "\n",
    "# Convert x to an integer\n",
    "x = int(x)\n",
    "\n",
    "if x < 5:\n",
    "    print(\"x is less than 5\")\n",
    "elif x == 5:\n",
    "    print(\"x is equal to 5\")\n",
    "else:\n",
    "    print(\"x is greater than 5\")"
   ]
  }
 ],
 "metadata": {
  "kernelspec": {
   "display_name": "Python 3",
   "language": "python",
   "name": "python3"
  },
  "language_info": {
   "codemirror_mode": {
    "name": "ipython",
    "version": 3
   },
   "file_extension": ".py",
   "mimetype": "text/x-python",
   "name": "python",
   "nbconvert_exporter": "python",
   "pygments_lexer": "ipython3",
   "version": "3.11.6"
  }
 },
 "nbformat": 4,
 "nbformat_minor": 2
}
